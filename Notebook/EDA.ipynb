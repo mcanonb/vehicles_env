{
 "cells": [
  {
   "cell_type": "code",
   "execution_count": null,
   "id": "ec432199",
   "metadata": {},
   "outputs": [],
   "source": [
    "import pandas as pd\n",
    "import plotly.express as px\n",
    "\n",
    "\n",
    "car_data = pd.read_csv('vehicles_us.csv') # leer los datos\n",
    "fig = px.histogram(car_data, x=\"odometer\") # crear un histograma\n",
    "fig.show() \n",
    "\n",
    "\n",
    "car_data = pd.read_csv('vehicles_us.csv') # leer los datos\n",
    "fig = px.scatter(car_data, x=\"odometer\", y=\"price\") # crear un gráfico de dispersión\n",
    "fig.show() # crear gráfico de dispersión"
   ]
  }
 ],
 "metadata": {
  "language_info": {
   "name": "python"
  }
 },
 "nbformat": 4,
 "nbformat_minor": 5
}
